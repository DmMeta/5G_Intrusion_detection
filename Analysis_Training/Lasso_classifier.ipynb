{
 "cells": [
  {
   "cell_type": "code",
   "execution_count": null,
   "metadata": {},
   "outputs": [],
   "source": [
    "#General Imports\n",
    "import pandas as pd\n",
    "import seaborn as sns\n",
    "from math import ceil\n",
    "from sklearn.preprocessing import LabelEncoder\n",
    "from sklearn.feature_selection import f_classif\n",
    "from sklearn.compose import ColumnTransformer\n",
    "from sklearn.pipeline import Pipeline\n",
    "from sklearn.preprocessing import StandardScaler\n",
    "from sklearn.ensemble import RandomForestClassifier\n",
    "from sklearn.model_selection import train_test_split\n",
    "from sklearn.metrics import accuracy_score, confusion_matrix, classification_report\n",
    "import matplotlib.pyplot as plt\n",
    "import random as rnd\n",
    "from time import perf_counter as time\n",
    "from preprocessing_utils import fill_nan_values, drop_features_\n",
    "from sklearn.linear_model import Lasso\n",
    "import numpy as np"
   ]
  },
  {
   "cell_type": "code",
   "execution_count": null,
   "metadata": {},
   "outputs": [],
   "source": [
    "dataset_fpath = '../data/BTS1_BTS2_fields_preserved.zip'\n",
    "nidd_dataset = pd.read_csv(dataset_fpath, compression = 'zip', low_memory=False)\n",
    "\n",
    "useless_features = ['Attack Tool', 'Attack Type', 'Dport', 'Sport', 'SrcAddr', 'DstAddr',\"Unnamed: 0\"]\n",
    "nidd_dataset = nidd_dataset.drop(useless_features, axis=1)\n",
    "print(f\"Original shape of data: {nidd_dataset.shape}\")"
   ]
  },
  {
   "cell_type": "code",
   "execution_count": null,
   "metadata": {},
   "outputs": [],
   "source": [
    "features_dropped = {\"Nan columns\": [], \"Zero columns\": [], \"Constant columns\": [], \"General columns\": useless_features}\n",
    "preprocessing_d = {\"Time <Dropping features based on a threshold `bad` values>\": 0.,\n",
    "                   \"Filling NaNs\": 0.,\n",
    "                   \"Time <Encoding categorical features>\": 0.,\n",
    "                   \"Time <Feature selection>\": 0.}\n",
    "\n",
    "\n",
    "\n",
    "nidd_dataset_cleaned, drop_time = drop_features_(nidd_dataset,[0.95, 0.95], features_dropped)\n",
    "preprocessing_d[\"Time <Dropping features based on a threshold `bad` values>\"] = drop_time\n",
    "\n",
    "nidd_dataset_cleaned, fill_time = fill_nan_values(nidd_dataset_cleaned, method = \"mean\")\n",
    "preprocessing_d[\"Filling NaNs\"] = fill_time\n",
    "\n",
    "numeric_cols = nidd_dataset_cleaned.select_dtypes(include='number').columns\n",
    "categorical_cols = nidd_dataset_cleaned.select_dtypes(include='object').columns\n",
    "\n",
    "t0 = time()\n",
    "# Encoding categorical columns\n",
    "label_encoder = LabelEncoder()\n",
    "for column in categorical_cols:\n",
    "    nidd_dataset_cleaned[column] = label_encoder.fit_transform(nidd_dataset_cleaned[column])\n",
    "\n",
    "t1 = time()\n",
    "preprocessing_d[\"Time <Encoding categorical features>\"] = t1 - t0\n"
   ]
  },
  {
   "cell_type": "code",
   "execution_count": null,
   "metadata": {},
   "outputs": [],
   "source": [
    "stdsc = StandardScaler()\n",
    "print(f\"numeric_cols: {numeric_cols} \\n {type(nidd_dataset_cleaned)}\")\n",
    "nidd_dataset_X = stdsc.fit_transform(nidd_dataset_cleaned[numeric_cols])\n",
    "\n",
    "print(type(nidd_dataset_X))\n",
    "sc_test = np.concatenate([nidd_dataset_X, nidd_dataset_cleaned[categorical_cols]], axis = 1)\n",
    "LassoModel = Lasso(alpha = 0.1)\n",
    "LassoModel.fit(nidd_dataset_cleaned.iloc[:,:-1], nidd_dataset_cleaned['Label'])\n",
    "useful_features = np.where(LassoModel.coef_ != 0)\n"
   ]
  },
  {
   "cell_type": "code",
   "execution_count": null,
   "metadata": {},
   "outputs": [],
   "source": [
    "print(sorted(LassoModel.coef_ , key = lambda x: abs(x)))\n",
    "useful_features = sorted(np.where(LassoModel.coef_ != 0), key = lambda x: abs(LassoModel.coef_[x]))\n",
    "print(useful_features)\n",
    "print(useful_features[0][::-1])\n",
    "\n",
    "test = nidd_dataset_cleaned.columns.to_numpy()[useful_features[0][::-1]]\n",
    "top_10_features = test[:10]\n",
    "print(top_10_features,len(test))"
   ]
  },
  {
   "cell_type": "code",
   "execution_count": 32,
   "metadata": {},
   "outputs": [],
   "source": [
    "\n",
    "\n",
    "X_train, X_test, y_train, y_test = train_test_split(nidd_dataset_cleaned[top_10_features], nidd_dataset_cleaned.iloc[:,-1], \n",
    "                                                    test_size=0.3, random_state=rnd.seed(42)) \n",
    "\n",
    "numeric_features = list(set(numeric_cols) & set(top_10_features))\n",
    "\n",
    "preprocessor = ColumnTransformer(\n",
    "    transformers=[\n",
    "        ('num', StandardScaler(),numeric_features ),\n",
    "    ])\n",
    "\n",
    "pipeline = Pipeline([\n",
    "    ('preprocessor', preprocessor),\n",
    "    ('classifier', RandomForestClassifier(random_state=42))\n",
    "])\n",
    "\n",
    "pipeline.fit(X_train, y_train)\n",
    "\n",
    "predictions = pipeline.predict(X_test)\n"
   ]
  },
  {
   "cell_type": "code",
   "execution_count": 33,
   "metadata": {},
   "outputs": [
    {
     "data": {
      "image/png": "[encoded data removed]",
      "text/plain": [
       "<Figure size 600x400 with 2 Axes>"
      ]
     },
     "metadata": {},
     "output_type": "display_data"
    },
    {
     "name": "stdout",
     "output_type": "stream",
     "text": [
      "Classification Report:\n",
      "               precision    recall  f1-score   support\n",
      "\n",
      "      Benign   0.597888  0.706487  0.647666    143203\n",
      "   Malicious   0.785061  0.692897  0.736105    221564\n",
      "\n",
      "    accuracy                       0.698232    364767\n",
      "   macro avg   0.691474  0.699692  0.691886    364767\n",
      "weighted avg   0.711579  0.698232  0.701385    364767\n",
      "\n",
      "Time <Dropping features based on a threshold `bad` values>: 2.7368 seconds\n",
      "Filling NaNs: 2.5168 seconds\n",
      "Time <Encoding categorical features>: 1.8012 seconds\n",
      "Time <Feature selection>: 0.0000 seconds\n"
     ]
    }
   ],
   "source": [
    "conf_matrix = confusion_matrix(y_test, predictions)\n",
    "\n",
    "plt.figure(figsize=(6, 4))\n",
    "plt.imshow(conf_matrix, cmap=plt.cm.Blues, interpolation='nearest')\n",
    "plt.title('Confusion Matrix')\n",
    "plt.colorbar()\n",
    "plt.xlabel('Predicted Label')\n",
    "plt.ylabel('True Label')\n",
    "plt.xticks(ticks=[0, 1], labels=['Benign', 'Malicious'])\n",
    "plt.yticks(ticks=[0, 1], labels=['Benign', 'Malicious'])\n",
    "for i in range(conf_matrix.shape[0]):\n",
    "    for j in range(conf_matrix.shape[1]):\n",
    "        plt.text(j, i, format(conf_matrix[i, j], 'd'), ha=\"center\", va=\"center\", color=\"white\" if conf_matrix[i, j] > conf_matrix.max() / 2 else \"black\")\n",
    "\n",
    "plt.show()\n",
    "\n",
    "class_report = classification_report(y_test, predictions, target_names=['Benign', 'Malicious'], digits=6)\n",
    "print(\"Classification Report:\\n\", class_report)\n",
    "for key, time in preprocessing_d.items():\n",
    "    print(f\"{key}: {time:.4f} seconds\")\n"
   ]
  }
 ],
 "metadata": {
  "kernelspec": {
   "display_name": "venv",
   "language": "python",
   "name": "python3"
  },
  "language_info": {
   "codemirror_mode": {
    "name": "ipython",
    "version": 3
   },
   "file_extension": ".py",
   "mimetype": "text/x-python",
   "name": "python",
   "nbconvert_exporter": "python",
   "pygments_lexer": "ipython3",
   "version": "3.10.12"
  }
 },
 "nbformat": 4,
 "nbformat_minor": 2
}
